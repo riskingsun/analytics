{
  "nbformat": 4,
  "nbformat_minor": 0,
  "metadata": {
    "colab": {
      "provenance": [],
      "authorship_tag": "ABX9TyPY+CpXfjsvgLqyEQ50Xc+b",
      "include_colab_link": true
    },
    "kernelspec": {
      "name": "python3",
      "display_name": "Python 3"
    },
    "language_info": {
      "name": "python"
    }
  },
  "cells": [
    {
      "cell_type": "markdown",
      "metadata": {
        "id": "view-in-github",
        "colab_type": "text"
      },
      "source": [
        "<a href=\"https://colab.research.google.com/github/riskingsun/analytics/blob/master/FirstNeuralNet.ipynb\" target=\"_parent\"><img src=\"https://colab.research.google.com/assets/colab-badge.svg\" alt=\"Open In Colab\"/></a>"
      ]
    },
    {
      "cell_type": "code",
      "execution_count": 3,
      "metadata": {
        "colab": {
          "base_uri": "https://localhost:8080/"
        },
        "id": "FCqh03uDVm-G",
        "outputId": "293d87b1-276a-4cc8-fcc7-388efcd8ab04"
      },
      "outputs": [
        {
          "output_type": "stream",
          "name": "stdout",
          "text": [
            "Able to import the various libraries\n"
          ]
        }
      ],
      "source": [
        "import torch\n",
        "from torch import nn\n",
        "import random\n",
        "\n",
        "print(\"Able to import the various libraries\")"
      ]
    },
    {
      "cell_type": "code",
      "source": [
        "def mystery(a, b):\n",
        "  return torch.tensor(a+3*b)"
      ],
      "metadata": {
        "id": "Yo3eJ1Z9WnuC"
      },
      "execution_count": 4,
      "outputs": []
    },
    {
      "cell_type": "code",
      "source": [
        "model = nn.Sequential(nn.Linear(2,1))\n",
        "model"
      ],
      "metadata": {
        "colab": {
          "base_uri": "https://localhost:8080/"
        },
        "id": "isI7yrPzWsvi",
        "outputId": "8e5a4107-8747-49f3-9764-d06c961428d7"
      },
      "execution_count": 5,
      "outputs": [
        {
          "output_type": "execute_result",
          "data": {
            "text/plain": [
              "Sequential(\n",
              "  (0): Linear(in_features=2, out_features=1, bias=True)\n",
              ")"
            ]
          },
          "metadata": {},
          "execution_count": 5
        }
      ]
    },
    {
      "cell_type": "code",
      "source": [
        "criterion = nn.MSELoss()\n",
        "optimizer = torch.optim.SGD(model.parameters(), lr=0.01, momentum=0.9)"
      ],
      "metadata": {
        "id": "D-A_9KIUWzQk"
      },
      "execution_count": 6,
      "outputs": []
    },
    {
      "cell_type": "code",
      "source": [
        "for i in range(1000):\n",
        "  a = random.random()\n",
        "  b = random.random()\n",
        "  desiredOutput = mystery(a,b)\n",
        "\n",
        "  output = model(torch.tensor([a,b]))\n",
        "  loss = criterion(output.squeeze(), desiredOutput)\n",
        "\n",
        "  if (i % 100)==0:\n",
        "    print (f\"Loss: {loss.item()}\")\n",
        "\n",
        "  optimizer.zero_grad()\n",
        "  loss.backward()\n",
        "  optimizer.step()\n"
      ],
      "metadata": {
        "id": "tlwkh3aYW0rt"
      },
      "execution_count": null,
      "outputs": []
    }
  ]
}